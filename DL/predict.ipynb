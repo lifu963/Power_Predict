{
 "cells": [
  {
   "cell_type": "code",
   "execution_count": 1,
   "metadata": {},
   "outputs": [],
   "source": [
    "import pandas as pd\n",
    "import numpy as np\n",
    "import matplotlib.pyplot as plt\n",
    "import joblib\n",
    "import models\n",
    "from config import opt\n",
    "import torch\n",
    "import torch.nn as nn\n",
    "from tqdm import tqdm\n",
    "from torchnet import meter\n",
    "from utils.visualize import Visualizer\n",
    "from data import Data_utility"
   ]
  },
  {
   "cell_type": "code",
   "execution_count": 2,
   "metadata": {},
   "outputs": [],
   "source": [
    "df_train = pd.read_csv('./raw_data/train_data.csv')\n",
    "df_test = pd.read_csv('./raw_data/test_data.csv')"
   ]
  },
  {
   "cell_type": "code",
   "execution_count": 16,
   "metadata": {},
   "outputs": [],
   "source": [
    "df = pd.concat([df_train,df_test],axis=0)"
   ]
  },
  {
   "cell_type": "code",
   "execution_count": 17,
   "metadata": {},
   "outputs": [],
   "source": [
    "df.to_csv('./raw_data/all_data.csv',index=False)"
   ]
  },
  {
   "cell_type": "markdown",
   "metadata": {},
   "source": [
    "假设对2010-01-01预测"
   ]
  },
  {
   "cell_type": "markdown",
   "metadata": {},
   "source": [
    "处理数据"
   ]
  },
  {
   "cell_type": "code",
   "execution_count": 3,
   "metadata": {},
   "outputs": [],
   "source": [
    "history_data = pd.concat([df_train[df_train['date']=='2009-12-31'],df_test[df_test['date']=='2010-01-01']],axis=0).copy()\n",
    "history_data.reset_index(inplace=True,drop=True)\n",
    "history_data.drop(columns=['date'],inplace=True)\n",
    "history_data[['Power']] = scaler.transform(history_data[['Power']])"
   ]
  },
  {
   "cell_type": "code",
   "execution_count": 4,
   "metadata": {},
   "outputs": [],
   "source": [
    "scaler = joblib.load('scaler.pkl')"
   ]
  },
  {
   "cell_type": "code",
   "execution_count": 7,
   "metadata": {},
   "outputs": [],
   "source": []
  },
  {
   "cell_type": "code",
   "execution_count": 8,
   "metadata": {},
   "outputs": [
    {
     "data": {
      "text/html": [
       "<div>\n",
       "<style scoped>\n",
       "    .dataframe tbody tr th:only-of-type {\n",
       "        vertical-align: middle;\n",
       "    }\n",
       "\n",
       "    .dataframe tbody tr th {\n",
       "        vertical-align: top;\n",
       "    }\n",
       "\n",
       "    .dataframe thead th {\n",
       "        text-align: right;\n",
       "    }\n",
       "</style>\n",
       "<table border=\"1\" class=\"dataframe\">\n",
       "  <thead>\n",
       "    <tr style=\"text-align: right;\">\n",
       "      <th></th>\n",
       "      <th>month</th>\n",
       "      <th>day</th>\n",
       "      <th>weekday</th>\n",
       "      <th>hour</th>\n",
       "      <th>max_T</th>\n",
       "      <th>min_T</th>\n",
       "      <th>avg_T</th>\n",
       "      <th>D</th>\n",
       "      <th>Power</th>\n",
       "    </tr>\n",
       "  </thead>\n",
       "  <tbody>\n",
       "    <tr>\n",
       "      <th>0</th>\n",
       "      <td>12</td>\n",
       "      <td>31</td>\n",
       "      <td>3</td>\n",
       "      <td>0.0</td>\n",
       "      <td>21.50</td>\n",
       "      <td>16.90</td>\n",
       "      <td>18.70</td>\n",
       "      <td>75.0</td>\n",
       "      <td>-0.856113</td>\n",
       "    </tr>\n",
       "    <tr>\n",
       "      <th>1</th>\n",
       "      <td>12</td>\n",
       "      <td>31</td>\n",
       "      <td>3</td>\n",
       "      <td>0.5</td>\n",
       "      <td>21.50</td>\n",
       "      <td>16.65</td>\n",
       "      <td>18.55</td>\n",
       "      <td>74.0</td>\n",
       "      <td>-1.020160</td>\n",
       "    </tr>\n",
       "    <tr>\n",
       "      <th>2</th>\n",
       "      <td>12</td>\n",
       "      <td>31</td>\n",
       "      <td>3</td>\n",
       "      <td>1.0</td>\n",
       "      <td>21.50</td>\n",
       "      <td>16.40</td>\n",
       "      <td>18.40</td>\n",
       "      <td>73.0</td>\n",
       "      <td>-1.219504</td>\n",
       "    </tr>\n",
       "    <tr>\n",
       "      <th>3</th>\n",
       "      <td>12</td>\n",
       "      <td>31</td>\n",
       "      <td>3</td>\n",
       "      <td>1.5</td>\n",
       "      <td>21.50</td>\n",
       "      <td>16.30</td>\n",
       "      <td>18.35</td>\n",
       "      <td>72.5</td>\n",
       "      <td>-1.445103</td>\n",
       "    </tr>\n",
       "    <tr>\n",
       "      <th>4</th>\n",
       "      <td>12</td>\n",
       "      <td>31</td>\n",
       "      <td>3</td>\n",
       "      <td>2.0</td>\n",
       "      <td>21.50</td>\n",
       "      <td>16.20</td>\n",
       "      <td>18.30</td>\n",
       "      <td>72.0</td>\n",
       "      <td>-1.636063</td>\n",
       "    </tr>\n",
       "    <tr>\n",
       "      <th>...</th>\n",
       "      <td>...</td>\n",
       "      <td>...</td>\n",
       "      <td>...</td>\n",
       "      <td>...</td>\n",
       "      <td>...</td>\n",
       "      <td>...</td>\n",
       "      <td>...</td>\n",
       "      <td>...</td>\n",
       "      <td>...</td>\n",
       "    </tr>\n",
       "    <tr>\n",
       "      <th>91</th>\n",
       "      <td>1</td>\n",
       "      <td>1</td>\n",
       "      <td>4</td>\n",
       "      <td>21.5</td>\n",
       "      <td>24.95</td>\n",
       "      <td>19.00</td>\n",
       "      <td>21.15</td>\n",
       "      <td>69.5</td>\n",
       "      <td>-0.403644</td>\n",
       "    </tr>\n",
       "    <tr>\n",
       "      <th>92</th>\n",
       "      <td>1</td>\n",
       "      <td>1</td>\n",
       "      <td>4</td>\n",
       "      <td>22.0</td>\n",
       "      <td>24.80</td>\n",
       "      <td>19.00</td>\n",
       "      <td>21.10</td>\n",
       "      <td>70.0</td>\n",
       "      <td>-0.437670</td>\n",
       "    </tr>\n",
       "    <tr>\n",
       "      <th>93</th>\n",
       "      <td>1</td>\n",
       "      <td>1</td>\n",
       "      <td>4</td>\n",
       "      <td>22.5</td>\n",
       "      <td>24.70</td>\n",
       "      <td>19.00</td>\n",
       "      <td>21.05</td>\n",
       "      <td>70.5</td>\n",
       "      <td>-0.497697</td>\n",
       "    </tr>\n",
       "    <tr>\n",
       "      <th>94</th>\n",
       "      <td>1</td>\n",
       "      <td>1</td>\n",
       "      <td>4</td>\n",
       "      <td>23.0</td>\n",
       "      <td>24.60</td>\n",
       "      <td>19.00</td>\n",
       "      <td>21.00</td>\n",
       "      <td>71.0</td>\n",
       "      <td>-0.616814</td>\n",
       "    </tr>\n",
       "    <tr>\n",
       "      <th>95</th>\n",
       "      <td>1</td>\n",
       "      <td>1</td>\n",
       "      <td>4</td>\n",
       "      <td>23.5</td>\n",
       "      <td>24.45</td>\n",
       "      <td>19.00</td>\n",
       "      <td>20.95</td>\n",
       "      <td>71.5</td>\n",
       "      <td>-0.799678</td>\n",
       "    </tr>\n",
       "  </tbody>\n",
       "</table>\n",
       "<p>96 rows × 9 columns</p>\n",
       "</div>"
      ],
      "text/plain": [
       "    month  day  weekday  hour  max_T  min_T  avg_T     D     Power\n",
       "0      12   31        3   0.0  21.50  16.90  18.70  75.0 -0.856113\n",
       "1      12   31        3   0.5  21.50  16.65  18.55  74.0 -1.020160\n",
       "2      12   31        3   1.0  21.50  16.40  18.40  73.0 -1.219504\n",
       "3      12   31        3   1.5  21.50  16.30  18.35  72.5 -1.445103\n",
       "4      12   31        3   2.0  21.50  16.20  18.30  72.0 -1.636063\n",
       "..    ...  ...      ...   ...    ...    ...    ...   ...       ...\n",
       "91      1    1        4  21.5  24.95  19.00  21.15  69.5 -0.403644\n",
       "92      1    1        4  22.0  24.80  19.00  21.10  70.0 -0.437670\n",
       "93      1    1        4  22.5  24.70  19.00  21.05  70.5 -0.497697\n",
       "94      1    1        4  23.0  24.60  19.00  21.00  71.0 -0.616814\n",
       "95      1    1        4  23.5  24.45  19.00  20.95  71.5 -0.799678\n",
       "\n",
       "[96 rows x 9 columns]"
      ]
     },
     "execution_count": 8,
     "metadata": {},
     "output_type": "execute_result"
    }
   ],
   "source": [
    "history_data"
   ]
  },
  {
   "cell_type": "code",
   "execution_count": 9,
   "metadata": {},
   "outputs": [],
   "source": [
    "model = models.WaveNet(opt.input_size,opt.out_size,opt.residual_size,\n",
    "                       opt.skip_size,opt.dilation_cycles,opt.dilation_depth)"
   ]
  },
  {
   "cell_type": "code",
   "execution_count": 10,
   "metadata": {},
   "outputs": [],
   "source": [
    "model.load('./models/checkpoints/WaveNet9.pth')"
   ]
  },
  {
   "cell_type": "markdown",
   "metadata": {},
   "source": [
    "仅预测下半小时情况"
   ]
  },
  {
   "cell_type": "code",
   "execution_count": 71,
   "metadata": {},
   "outputs": [],
   "source": [
    "preds = []\n",
    "with torch.no_grad():\n",
    "    model.eval()\n",
    "    for i in range(48):\n",
    "        inputs = torch.from_numpy(history_data[i:i+48].values).unsqueeze(0)\n",
    "        inputs = inputs.type(torch.FloatTensor)\n",
    "        pred = model(inputs)\n",
    "        preds.append(pred[-1,-1,-1].item())"
   ]
  },
  {
   "cell_type": "code",
   "execution_count": 78,
   "metadata": {},
   "outputs": [],
   "source": [
    "true_label = scaler.inverse_transform(history_data[48:][['Power']])"
   ]
  },
  {
   "cell_type": "code",
   "execution_count": 80,
   "metadata": {},
   "outputs": [],
   "source": [
    "pred_label = scaler.inverse_transform(preds)"
   ]
  },
  {
   "cell_type": "code",
   "execution_count": 87,
   "metadata": {},
   "outputs": [],
   "source": [
    "true_label = true_label.reshape(-1)"
   ]
  },
  {
   "cell_type": "code",
   "execution_count": 96,
   "metadata": {},
   "outputs": [],
   "source": [
    "mape = (np.abs(pred_label-true_label)/true_label).mean()*100"
   ]
  },
  {
   "cell_type": "code",
   "execution_count": 90,
   "metadata": {},
   "outputs": [
    {
     "data": {
      "image/png": "[encoded data removed]",
      "text/plain": [
       "<Figure size 432x288 with 1 Axes>"
      ]
     },
     "metadata": {
      "needs_background": "light"
     },
     "output_type": "display_data"
    }
   ],
   "source": [
    "plt.plot(true_label,c='r',label='true')\n",
    "plt.plot(pred_label,c='b',label='pred')\n",
    "plt.legend(loc='best')\n",
    "plt.show()"
   ]
  },
  {
   "cell_type": "markdown",
   "metadata": {},
   "source": [
    "若一整天滚动预测"
   ]
  },
  {
   "cell_type": "code",
   "execution_count": 100,
   "metadata": {},
   "outputs": [
    {
     "data": {
      "text/plain": [
       "torch.Size([1, 48, 9])"
      ]
     },
     "execution_count": 100,
     "metadata": {},
     "output_type": "execute_result"
    }
   ],
   "source": [
    "inputs.shape"
   ]
  },
  {
   "cell_type": "code",
   "execution_count": 101,
   "metadata": {},
   "outputs": [],
   "source": [
    "rol_history_data = history_data.copy()"
   ]
  },
  {
   "cell_type": "code",
   "execution_count": 114,
   "metadata": {},
   "outputs": [],
   "source": [
    "rol_preds = []\n",
    "with torch.no_grad():\n",
    "    model.eval()\n",
    "    for i in range(48):\n",
    "        inputs = torch.from_numpy(rol_history_data[i:i+48].values).unsqueeze(0)\n",
    "        inputs = inputs.type(torch.FloatTensor)\n",
    "        pred = model(inputs)\n",
    "        rol_preds.append(pred[-1,-1,-1].item())\n",
    "        rol_history_data.loc[i+48,'Power'] = pred[-1,-1,-1].item()"
   ]
  },
  {
   "cell_type": "code",
   "execution_count": 116,
   "metadata": {},
   "outputs": [],
   "source": [
    "rol_pred_label = scaler.inverse_transform(rol_preds)"
   ]
  },
  {
   "cell_type": "code",
   "execution_count": 118,
   "metadata": {},
   "outputs": [
    {
     "data": {
      "image/png": "[encoded data removed]",
      "text/plain": [
       "<Figure size 432x288 with 1 Axes>"
      ]
     },
     "metadata": {
      "needs_background": "light"
     },
     "output_type": "display_data"
    }
   ],
   "source": [
    "plt.plot(true_label,c='r',label='true')\n",
    "plt.plot(rol_pred_label,c='b',label='pred')\n",
    "plt.legend(loc='best')\n",
    "plt.show()"
   ]
  },
  {
   "cell_type": "code",
   "execution_count": 119,
   "metadata": {},
   "outputs": [],
   "source": [
    "mape = (np.abs(rol_pred_label-true_label)/true_label).mean()*100"
   ]
  },
  {
   "cell_type": "code",
   "execution_count": 120,
   "metadata": {
    "scrolled": true
   },
   "outputs": [
    {
     "data": {
      "text/plain": [
       "7.828210643133729"
      ]
     },
     "execution_count": 120,
     "metadata": {},
     "output_type": "execute_result"
    }
   ],
   "source": [
    "mape"
   ]
  },
  {
   "cell_type": "markdown",
   "metadata": {},
   "source": [
    "假设短时预测前再训练？"
   ]
  },
  {
   "cell_type": "markdown",
   "metadata": {},
   "source": [
    "取30天数据再训练"
   ]
  },
  {
   "cell_type": "markdown",
   "metadata": {},
   "source": [
    "对2010-01-01预测,则取三十天前"
   ]
  },
  {
   "cell_type": "code",
   "execution_count": 3,
   "metadata": {},
   "outputs": [],
   "source": [
    "df = pd.read_csv('./raw_data/all_data.csv')"
   ]
  },
  {
   "cell_type": "code",
   "execution_count": 4,
   "metadata": {},
   "outputs": [],
   "source": [
    "df['date'] = pd.to_datetime(df['date'])"
   ]
  },
  {
   "cell_type": "code",
   "execution_count": 5,
   "metadata": {},
   "outputs": [],
   "source": [
    "df.set_index('date',inplace=True)"
   ]
  },
  {
   "cell_type": "code",
   "execution_count": 6,
   "metadata": {},
   "outputs": [],
   "source": [
    "train_data = df['2010-12-01':'2010-12-31']"
   ]
  },
  {
   "cell_type": "code",
   "execution_count": 7,
   "metadata": {},
   "outputs": [],
   "source": [
    "train_data.reset_index(inplace=True)"
   ]
  },
  {
   "cell_type": "code",
   "execution_count": 8,
   "metadata": {},
   "outputs": [
    {
     "data": {
      "text/plain": [
       "1488"
      ]
     },
     "execution_count": 8,
     "metadata": {},
     "output_type": "execute_result"
    }
   ],
   "source": [
    "len(train_data)"
   ]
  },
  {
   "cell_type": "code",
   "execution_count": 10,
   "metadata": {},
   "outputs": [],
   "source": [
    "data_utility = Data_utility(train_data,opt.WINDOW_SIZE,scaler=scaler)"
   ]
  },
  {
   "cell_type": "code",
   "execution_count": 12,
   "metadata": {},
   "outputs": [],
   "source": [
    "X,Y = data_utility.get_data()"
   ]
  },
  {
   "cell_type": "code",
   "execution_count": 14,
   "metadata": {},
   "outputs": [],
   "source": [
    "model = models.WaveNet(opt.input_size,opt.out_size,opt.residual_size,\n",
    "                       opt.skip_size,opt.dilation_cycles,opt.dilation_depth)\n",
    "model.load('./models/checkpoints/WaveNet9.pth')"
   ]
  },
  {
   "cell_type": "code",
   "execution_count": 15,
   "metadata": {},
   "outputs": [],
   "source": [
    "device = torch.device('cuda') if opt.use_gpu else torch.device('cpu')"
   ]
  },
  {
   "cell_type": "code",
   "execution_count": 16,
   "metadata": {},
   "outputs": [
    {
     "data": {
      "text/plain": [
       "WaveNet(\n",
       "  (input_conv): CausalConv1d(\n",
       "    (conv1): Conv1d(9, 3, kernel_size=(2,), stride=(1,), padding=(1,))\n",
       "  )\n",
       "  (dilated_stacks): ModuleList(\n",
       "    (0): DilatedStack(\n",
       "      (residual_stack): ModuleList(\n",
       "        (0): ResidualLayer(\n",
       "          (conv_filter): CausalConv1d(\n",
       "            (conv1): Conv1d(3, 3, kernel_size=(2,), stride=(1,), padding=(1,))\n",
       "          )\n",
       "          (conv_gate): CausalConv1d(\n",
       "            (conv1): Conv1d(3, 3, kernel_size=(2,), stride=(1,), padding=(1,))\n",
       "          )\n",
       "          (resconv1_1): Conv1d(3, 3, kernel_size=(1,), stride=(1,))\n",
       "          (skipconv1_1): Conv1d(3, 3, kernel_size=(1,), stride=(1,))\n",
       "        )\n",
       "        (1): ResidualLayer(\n",
       "          (conv_filter): CausalConv1d(\n",
       "            (conv1): Conv1d(3, 3, kernel_size=(2,), stride=(1,), padding=(2,), dilation=(2,))\n",
       "          )\n",
       "          (conv_gate): CausalConv1d(\n",
       "            (conv1): Conv1d(3, 3, kernel_size=(2,), stride=(1,), padding=(2,), dilation=(2,))\n",
       "          )\n",
       "          (resconv1_1): Conv1d(3, 3, kernel_size=(1,), stride=(1,))\n",
       "          (skipconv1_1): Conv1d(3, 3, kernel_size=(1,), stride=(1,))\n",
       "        )\n",
       "        (2): ResidualLayer(\n",
       "          (conv_filter): CausalConv1d(\n",
       "            (conv1): Conv1d(3, 3, kernel_size=(2,), stride=(1,), padding=(4,), dilation=(4,))\n",
       "          )\n",
       "          (conv_gate): CausalConv1d(\n",
       "            (conv1): Conv1d(3, 3, kernel_size=(2,), stride=(1,), padding=(4,), dilation=(4,))\n",
       "          )\n",
       "          (resconv1_1): Conv1d(3, 3, kernel_size=(1,), stride=(1,))\n",
       "          (skipconv1_1): Conv1d(3, 3, kernel_size=(1,), stride=(1,))\n",
       "        )\n",
       "        (3): ResidualLayer(\n",
       "          (conv_filter): CausalConv1d(\n",
       "            (conv1): Conv1d(3, 3, kernel_size=(2,), stride=(1,), padding=(8,), dilation=(8,))\n",
       "          )\n",
       "          (conv_gate): CausalConv1d(\n",
       "            (conv1): Conv1d(3, 3, kernel_size=(2,), stride=(1,), padding=(8,), dilation=(8,))\n",
       "          )\n",
       "          (resconv1_1): Conv1d(3, 3, kernel_size=(1,), stride=(1,))\n",
       "          (skipconv1_1): Conv1d(3, 3, kernel_size=(1,), stride=(1,))\n",
       "        )\n",
       "      )\n",
       "    )\n",
       "  )\n",
       "  (convout_1): Conv1d(3, 1, kernel_size=(1,), stride=(1,))\n",
       "  (convout_2): Conv1d(1, 1, kernel_size=(1,), stride=(1,))\n",
       ")"
      ]
     },
     "execution_count": 16,
     "metadata": {},
     "output_type": "execute_result"
    }
   ],
   "source": [
    "model.to(device)"
   ]
  },
  {
   "cell_type": "code",
   "execution_count": 17,
   "metadata": {},
   "outputs": [],
   "source": [
    "criterion = nn.MSELoss()\n",
    "lr = opt.lr\n",
    "optimizer = model.get_optimizer(lr,opt.weight_decay)\n",
    "loss_meter = meter.AverageValueMeter()\n",
    "previous_loss = 1e10"
   ]
  },
  {
   "cell_type": "code",
   "execution_count": 18,
   "metadata": {
    "scrolled": true
   },
   "outputs": [
    {
     "data": {
      "text/plain": [
       "WaveNet(\n",
       "  (input_conv): CausalConv1d(\n",
       "    (conv1): Conv1d(9, 3, kernel_size=(2,), stride=(1,), padding=(1,))\n",
       "  )\n",
       "  (dilated_stacks): ModuleList(\n",
       "    (0): DilatedStack(\n",
       "      (residual_stack): ModuleList(\n",
       "        (0): ResidualLayer(\n",
       "          (conv_filter): CausalConv1d(\n",
       "            (conv1): Conv1d(3, 3, kernel_size=(2,), stride=(1,), padding=(1,))\n",
       "          )\n",
       "          (conv_gate): CausalConv1d(\n",
       "            (conv1): Conv1d(3, 3, kernel_size=(2,), stride=(1,), padding=(1,))\n",
       "          )\n",
       "          (resconv1_1): Conv1d(3, 3, kernel_size=(1,), stride=(1,))\n",
       "          (skipconv1_1): Conv1d(3, 3, kernel_size=(1,), stride=(1,))\n",
       "        )\n",
       "        (1): ResidualLayer(\n",
       "          (conv_filter): CausalConv1d(\n",
       "            (conv1): Conv1d(3, 3, kernel_size=(2,), stride=(1,), padding=(2,), dilation=(2,))\n",
       "          )\n",
       "          (conv_gate): CausalConv1d(\n",
       "            (conv1): Conv1d(3, 3, kernel_size=(2,), stride=(1,), padding=(2,), dilation=(2,))\n",
       "          )\n",
       "          (resconv1_1): Conv1d(3, 3, kernel_size=(1,), stride=(1,))\n",
       "          (skipconv1_1): Conv1d(3, 3, kernel_size=(1,), stride=(1,))\n",
       "        )\n",
       "        (2): ResidualLayer(\n",
       "          (conv_filter): CausalConv1d(\n",
       "            (conv1): Conv1d(3, 3, kernel_size=(2,), stride=(1,), padding=(4,), dilation=(4,))\n",
       "          )\n",
       "          (conv_gate): CausalConv1d(\n",
       "            (conv1): Conv1d(3, 3, kernel_size=(2,), stride=(1,), padding=(4,), dilation=(4,))\n",
       "          )\n",
       "          (resconv1_1): Conv1d(3, 3, kernel_size=(1,), stride=(1,))\n",
       "          (skipconv1_1): Conv1d(3, 3, kernel_size=(1,), stride=(1,))\n",
       "        )\n",
       "        (3): ResidualLayer(\n",
       "          (conv_filter): CausalConv1d(\n",
       "            (conv1): Conv1d(3, 3, kernel_size=(2,), stride=(1,), padding=(8,), dilation=(8,))\n",
       "          )\n",
       "          (conv_gate): CausalConv1d(\n",
       "            (conv1): Conv1d(3, 3, kernel_size=(2,), stride=(1,), padding=(8,), dilation=(8,))\n",
       "          )\n",
       "          (resconv1_1): Conv1d(3, 3, kernel_size=(1,), stride=(1,))\n",
       "          (skipconv1_1): Conv1d(3, 3, kernel_size=(1,), stride=(1,))\n",
       "        )\n",
       "      )\n",
       "    )\n",
       "  )\n",
       "  (convout_1): Conv1d(3, 1, kernel_size=(1,), stride=(1,))\n",
       "  (convout_2): Conv1d(1, 1, kernel_size=(1,), stride=(1,))\n",
       ")"
      ]
     },
     "execution_count": 18,
     "metadata": {},
     "output_type": "execute_result"
    }
   ],
   "source": [
    "model.train()"
   ]
  },
  {
   "cell_type": "code",
   "execution_count": 21,
   "metadata": {
    "scrolled": true
   },
   "outputs": [
    {
     "name": "stderr",
     "output_type": "stream",
     "text": [
      "Setting up a new session...\n",
      "Without the incoming socket you cannot receive events from the server or register event handlers to your Visdom client.\n"
     ]
    }
   ],
   "source": [
    "vis = Visualizer(opt.env,port=opt.vis_port)"
   ]
  },
  {
   "cell_type": "markdown",
   "metadata": {},
   "source": [
    "再训练"
   ]
  },
  {
   "cell_type": "code",
   "execution_count": 22,
   "metadata": {
    "scrolled": true
   },
   "outputs": [
    {
     "name": "stderr",
     "output_type": "stream",
     "text": [
      "44it [00:18,  2.37it/s]\n",
      "44it [00:01, 38.39it/s]\n",
      "44it [00:01, 40.70it/s]\n",
      "44it [00:01, 41.12it/s]\n",
      "44it [00:01, 41.31it/s]\n",
      "44it [00:01, 40.82it/s]\n",
      "44it [00:01, 39.78it/s]\n",
      "44it [00:01, 40.33it/s]\n",
      "44it [00:01, 41.08it/s]\n",
      "44it [00:01, 40.33it/s]\n"
     ]
    }
   ],
   "source": [
    "for epoch in range(opt.max_epoch):\n",
    "        loss_meter.reset()\n",
    "        for i,(data,label) in tqdm(enumerate(data_utility.get_batches(X,Y,opt.batch_size,shuffle=False))):\n",
    "            \n",
    "            inputs = data.to(device)\n",
    "            targets = label.to(device)\n",
    "            \n",
    "            optimizer.zero_grad()\n",
    "            preds = model(inputs)\n",
    "            preds = preds.squeeze(2)\n",
    "            loss = criterion(preds,targets)\n",
    "            loss.backward()\n",
    "            optimizer.step()\n",
    "            \n",
    "            loss_meter.add(loss.item())\n",
    "            if(i+1)%opt.print_freq == 0:\n",
    "                vis.plot('loss',loss_meter.value()[0])\n",
    "        \n",
    "        if loss_meter.value()[0]>previous_loss:\n",
    "            lr = lr * opt.lr_decay\n",
    "            for param_group in optimizer.param_groups:\n",
    "                param_group['lr'] = lr\n",
    "                \n",
    "        previous_loss = loss_meter.value()[0]"
   ]
  },
  {
   "cell_type": "code",
   "execution_count": 26,
   "metadata": {},
   "outputs": [],
   "source": [
    "history_data = df['2009-12-31':'2010-01-01'].copy()"
   ]
  },
  {
   "cell_type": "code",
   "execution_count": 28,
   "metadata": {},
   "outputs": [],
   "source": [
    "history_data.reset_index(inplace=True,drop=True)"
   ]
  },
  {
   "cell_type": "code",
   "execution_count": 31,
   "metadata": {},
   "outputs": [],
   "source": [
    "history_data[['Power']] = scaler.transform(history_data[['Power']])"
   ]
  },
  {
   "cell_type": "code",
   "execution_count": 38,
   "metadata": {},
   "outputs": [
    {
     "data": {
      "text/plain": [
       "WaveNet(\n",
       "  (input_conv): CausalConv1d(\n",
       "    (conv1): Conv1d(9, 3, kernel_size=(2,), stride=(1,), padding=(1,))\n",
       "  )\n",
       "  (dilated_stacks): ModuleList(\n",
       "    (0): DilatedStack(\n",
       "      (residual_stack): ModuleList(\n",
       "        (0): ResidualLayer(\n",
       "          (conv_filter): CausalConv1d(\n",
       "            (conv1): Conv1d(3, 3, kernel_size=(2,), stride=(1,), padding=(1,))\n",
       "          )\n",
       "          (conv_gate): CausalConv1d(\n",
       "            (conv1): Conv1d(3, 3, kernel_size=(2,), stride=(1,), padding=(1,))\n",
       "          )\n",
       "          (resconv1_1): Conv1d(3, 3, kernel_size=(1,), stride=(1,))\n",
       "          (skipconv1_1): Conv1d(3, 3, kernel_size=(1,), stride=(1,))\n",
       "        )\n",
       "        (1): ResidualLayer(\n",
       "          (conv_filter): CausalConv1d(\n",
       "            (conv1): Conv1d(3, 3, kernel_size=(2,), stride=(1,), padding=(2,), dilation=(2,))\n",
       "          )\n",
       "          (conv_gate): CausalConv1d(\n",
       "            (conv1): Conv1d(3, 3, kernel_size=(2,), stride=(1,), padding=(2,), dilation=(2,))\n",
       "          )\n",
       "          (resconv1_1): Conv1d(3, 3, kernel_size=(1,), stride=(1,))\n",
       "          (skipconv1_1): Conv1d(3, 3, kernel_size=(1,), stride=(1,))\n",
       "        )\n",
       "        (2): ResidualLayer(\n",
       "          (conv_filter): CausalConv1d(\n",
       "            (conv1): Conv1d(3, 3, kernel_size=(2,), stride=(1,), padding=(4,), dilation=(4,))\n",
       "          )\n",
       "          (conv_gate): CausalConv1d(\n",
       "            (conv1): Conv1d(3, 3, kernel_size=(2,), stride=(1,), padding=(4,), dilation=(4,))\n",
       "          )\n",
       "          (resconv1_1): Conv1d(3, 3, kernel_size=(1,), stride=(1,))\n",
       "          (skipconv1_1): Conv1d(3, 3, kernel_size=(1,), stride=(1,))\n",
       "        )\n",
       "        (3): ResidualLayer(\n",
       "          (conv_filter): CausalConv1d(\n",
       "            (conv1): Conv1d(3, 3, kernel_size=(2,), stride=(1,), padding=(8,), dilation=(8,))\n",
       "          )\n",
       "          (conv_gate): CausalConv1d(\n",
       "            (conv1): Conv1d(3, 3, kernel_size=(2,), stride=(1,), padding=(8,), dilation=(8,))\n",
       "          )\n",
       "          (resconv1_1): Conv1d(3, 3, kernel_size=(1,), stride=(1,))\n",
       "          (skipconv1_1): Conv1d(3, 3, kernel_size=(1,), stride=(1,))\n",
       "        )\n",
       "      )\n",
       "    )\n",
       "  )\n",
       "  (convout_1): Conv1d(3, 1, kernel_size=(1,), stride=(1,))\n",
       "  (convout_2): Conv1d(1, 1, kernel_size=(1,), stride=(1,))\n",
       ")"
      ]
     },
     "execution_count": 38,
     "metadata": {},
     "output_type": "execute_result"
    }
   ],
   "source": [
    "model.to('cpu')"
   ]
  },
  {
   "cell_type": "code",
   "execution_count": 39,
   "metadata": {},
   "outputs": [],
   "source": [
    "preds = []\n",
    "with torch.no_grad():\n",
    "    model.eval()\n",
    "    for i in range(48):\n",
    "        inputs = torch.from_numpy(history_data[i:i+48].values).unsqueeze(0)\n",
    "        inputs = inputs.type(torch.FloatTensor)\n",
    "        pred = model(inputs)\n",
    "        preds.append(pred[-1,-1,-1].item())"
   ]
  },
  {
   "cell_type": "code",
   "execution_count": 42,
   "metadata": {},
   "outputs": [],
   "source": [
    "true_label = scaler.inverse_transform(history_data[48:][['Power']])\n",
    "pred_label = scaler.inverse_transform(preds)\n",
    "true_label = true_label.reshape(-1)"
   ]
  },
  {
   "cell_type": "code",
   "execution_count": 43,
   "metadata": {
    "scrolled": true
   },
   "outputs": [
    {
     "data": {
      "image/png": "[encoded data removed]",
      "text/plain": [
       "<Figure size 432x288 with 1 Axes>"
      ]
     },
     "metadata": {
      "needs_background": "light"
     },
     "output_type": "display_data"
    }
   ],
   "source": [
    "plt.plot(true_label,c='r',label='true')\n",
    "plt.plot(pred_label,c='b',label='pred')\n",
    "plt.legend(loc='best')\n",
    "plt.show()"
   ]
  },
  {
   "cell_type": "code",
   "execution_count": 50,
   "metadata": {},
   "outputs": [],
   "source": [
    "mape = (np.abs(pred_label-true_label)/true_label).mean()*100"
   ]
  },
  {
   "cell_type": "code",
   "execution_count": 51,
   "metadata": {},
   "outputs": [
    {
     "data": {
      "text/plain": [
       "0.8154447774738947"
      ]
     },
     "execution_count": 51,
     "metadata": {},
     "output_type": "execute_result"
    }
   ],
   "source": [
    "mape"
   ]
  },
  {
   "cell_type": "markdown",
   "metadata": {},
   "source": [
    "若一整天滚动预测"
   ]
  },
  {
   "cell_type": "code",
   "execution_count": 44,
   "metadata": {},
   "outputs": [],
   "source": [
    "rol_history_data = history_data.copy()"
   ]
  },
  {
   "cell_type": "code",
   "execution_count": 45,
   "metadata": {},
   "outputs": [],
   "source": [
    "rol_preds = []\n",
    "with torch.no_grad():\n",
    "    model.eval()\n",
    "    for i in range(48):\n",
    "        inputs = torch.from_numpy(rol_history_data[i:i+48].values).unsqueeze(0)\n",
    "        inputs = inputs.type(torch.FloatTensor)\n",
    "        pred = model(inputs)\n",
    "        rol_preds.append(pred[-1,-1,-1].item())\n",
    "        rol_history_data.loc[i+48,'Power'] = pred[-1,-1,-1].item()"
   ]
  },
  {
   "cell_type": "code",
   "execution_count": 46,
   "metadata": {},
   "outputs": [],
   "source": [
    "rol_pred_label = scaler.inverse_transform(rol_preds)"
   ]
  },
  {
   "cell_type": "code",
   "execution_count": 47,
   "metadata": {
    "scrolled": true
   },
   "outputs": [
    {
     "data": {
      "image/png": "[encoded data removed]",
      "text/plain": [
       "<Figure size 432x288 with 1 Axes>"
      ]
     },
     "metadata": {
      "needs_background": "light"
     },
     "output_type": "display_data"
    }
   ],
   "source": [
    "plt.plot(true_label,c='r',label='true')\n",
    "plt.plot(rol_pred_label,c='b',label='pred')\n",
    "plt.legend(loc='best')\n",
    "plt.show()"
   ]
  },
  {
   "cell_type": "code",
   "execution_count": 48,
   "metadata": {},
   "outputs": [],
   "source": [
    "mape = (np.abs(rol_pred_label-true_label)/true_label).mean()*100"
   ]
  }
 ],
 "metadata": {
  "kernelspec": {
   "display_name": "Python 3",
   "language": "python",
   "name": "python3"
  },
  "language_info": {
   "codemirror_mode": {
    "name": "ipython",
    "version": 3
   },
   "file_extension": ".py",
   "mimetype": "text/x-python",
   "name": "python",
   "nbconvert_exporter": "python",
   "pygments_lexer": "ipython3",
   "version": "3.7.6"
  }
 },
 "nbformat": 4,
 "nbformat_minor": 4
}
