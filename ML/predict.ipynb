{
 "cells": [
  {
   "cell_type": "code",
   "execution_count": 49,
   "metadata": {},
   "outputs": [],
   "source": [
    "import pandas as pd\n",
    "import numpy as np\n",
    "import matplotlib.pyplot as plt\n",
    "import random\n",
    "import re"
   ]
  },
  {
   "cell_type": "code",
   "execution_count": 2,
   "metadata": {},
   "outputs": [],
   "source": [
    "test_data = pd.read_csv('./raw_data/test_data.csv')"
   ]
  },
  {
   "cell_type": "markdown",
   "metadata": {},
   "source": [
    "决策树分类所需特征:month,max_T,min_T,avg_T"
   ]
  },
  {
   "cell_type": "code",
   "execution_count": 3,
   "metadata": {
    "scrolled": true
   },
   "outputs": [],
   "source": [
    "test_day_info = test_data.groupby('date')[['avg_T']].mean()"
   ]
  },
  {
   "cell_type": "code",
   "execution_count": 4,
   "metadata": {},
   "outputs": [],
   "source": [
    "test_day_info['max_T'] = None\n",
    "test_day_info['min_T'] = None"
   ]
  },
  {
   "cell_type": "code",
   "execution_count": 5,
   "metadata": {},
   "outputs": [],
   "source": [
    "for name,group in test_data.groupby(['date']):\n",
    "    test_day_info.loc[name,'max_T'] = group['max_T'].max()\n",
    "    test_day_info.loc[name,'min_T'] = group['min_T'].min()"
   ]
  },
  {
   "cell_type": "code",
   "execution_count": 7,
   "metadata": {},
   "outputs": [],
   "source": [
    "test_day_info['date'] = test_day_info.index"
   ]
  },
  {
   "cell_type": "code",
   "execution_count": 8,
   "metadata": {},
   "outputs": [],
   "source": [
    "test_day_info['date'] = pd.to_datetime(test_day_info['date'])"
   ]
  },
  {
   "cell_type": "code",
   "execution_count": 9,
   "metadata": {},
   "outputs": [],
   "source": [
    "test_day_info['month'] = test_day_info['date'].map(lambda x:x.month)"
   ]
  },
  {
   "cell_type": "code",
   "execution_count": 10,
   "metadata": {},
   "outputs": [],
   "source": [
    "test_day_info.drop(columns=['date'],inplace=True)"
   ]
  },
  {
   "cell_type": "code",
   "execution_count": 12,
   "metadata": {},
   "outputs": [],
   "source": [
    "test_day_info['max_T']  = pd.to_numeric(test_day_info['max_T'])\n",
    "test_day_info['min_T']  = pd.to_numeric(test_day_info['min_T'])"
   ]
  },
  {
   "cell_type": "code",
   "execution_count": 13,
   "metadata": {},
   "outputs": [],
   "source": [
    "test_day_info = test_day_info[['month','max_T','min_T','avg_T']]"
   ]
  },
  {
   "cell_type": "markdown",
   "metadata": {},
   "source": [
    "加载训练好的分类器"
   ]
  },
  {
   "cell_type": "code",
   "execution_count": 14,
   "metadata": {},
   "outputs": [],
   "source": [
    "import joblib"
   ]
  },
  {
   "cell_type": "code",
   "execution_count": 15,
   "metadata": {},
   "outputs": [],
   "source": [
    "lgb_clf = joblib.load('./raw_data/lgb_clf.pkl')"
   ]
  },
  {
   "cell_type": "code",
   "execution_count": 16,
   "metadata": {},
   "outputs": [],
   "source": [
    "test_data_label = lgb_clf.predict(test_day_info)"
   ]
  },
  {
   "cell_type": "code",
   "execution_count": 17,
   "metadata": {},
   "outputs": [
    {
     "name": "stderr",
     "output_type": "stream",
     "text": [
      "F:\\Anaconda3\\lib\\site-packages\\ipykernel_launcher.py:1: SettingWithCopyWarning: \n",
      "A value is trying to be set on a copy of a slice from a DataFrame.\n",
      "Try using .loc[row_indexer,col_indexer] = value instead\n",
      "\n",
      "See the caveats in the documentation: https://pandas.pydata.org/pandas-docs/stable/user_guide/indexing.html#returning-a-view-versus-a-copy\n",
      "  \"\"\"Entry point for launching an IPython kernel.\n"
     ]
    }
   ],
   "source": [
    "test_day_info['class'] = None"
   ]
  },
  {
   "cell_type": "code",
   "execution_count": 18,
   "metadata": {
    "scrolled": false
   },
   "outputs": [
    {
     "name": "stderr",
     "output_type": "stream",
     "text": [
      "F:\\Anaconda3\\lib\\site-packages\\ipykernel_launcher.py:1: SettingWithCopyWarning: \n",
      "A value is trying to be set on a copy of a slice from a DataFrame.\n",
      "Try using .loc[row_indexer,col_indexer] = value instead\n",
      "\n",
      "See the caveats in the documentation: https://pandas.pydata.org/pandas-docs/stable/user_guide/indexing.html#returning-a-view-versus-a-copy\n",
      "  \"\"\"Entry point for launching an IPython kernel.\n"
     ]
    }
   ],
   "source": [
    "test_day_info['class'] = test_data_label"
   ]
  },
  {
   "cell_type": "code",
   "execution_count": 19,
   "metadata": {
    "scrolled": true
   },
   "outputs": [],
   "source": [
    "test_day_info = test_day_info.reset_index()"
   ]
  },
  {
   "cell_type": "code",
   "execution_count": 20,
   "metadata": {},
   "outputs": [],
   "source": [
    "test_day_info = test_day_info[['date','class']]"
   ]
  },
  {
   "cell_type": "code",
   "execution_count": 25,
   "metadata": {},
   "outputs": [],
   "source": [
    "test_data = pd.merge(test_data,test_day_info,how='left')"
   ]
  },
  {
   "cell_type": "markdown",
   "metadata": {},
   "source": [
    "特征处理"
   ]
  },
  {
   "cell_type": "code",
   "execution_count": 26,
   "metadata": {},
   "outputs": [],
   "source": [
    "last_second_week_power = test_data[:-48*14].Power\n",
    "last_week_power = test_data[48*7:-48*7].Power\n",
    "last_second_week_power.reset_index(drop=True,inplace=True)\n",
    "last_week_power.reset_index(drop=True,inplace=True)\n",
    "df_features = test_data[48*14:].copy()\n",
    "df_features.reset_index(drop=True,inplace=True)\n",
    "df_features['last_second_week_power'] = last_second_week_power\n",
    "df_features['last_week_power'] = last_week_power"
   ]
  },
  {
   "cell_type": "code",
   "execution_count": 27,
   "metadata": {},
   "outputs": [],
   "source": [
    "last_n_hour_temperature = {}\n",
    "for i in range(1,7):\n",
    "    last_hour_temperature = test_data.iloc[48*14-i:-i].min_T.reset_index(drop=True)\n",
    "    last_n_hour_temperature[i] = last_hour_temperature\n",
    "for i in range(1,7):\n",
    "    df_features['last_%d_hour_temperature'%i] = last_n_hour_temperature[i]"
   ]
  },
  {
   "cell_type": "code",
   "execution_count": 28,
   "metadata": {},
   "outputs": [],
   "source": [
    "yesterday_n_hour_temperature = {}\n",
    "for i in range(0,4):\n",
    "    yesterday_hour_temperature = test_data.iloc[48*13-i:-48*1-i].min_T.reset_index(drop=True)\n",
    "    yesterday_n_hour_temperature[i] = yesterday_hour_temperature \n",
    "for i in range(0,4):\n",
    "    df_features['yesterday_last_%d_hour_temperature'%i] = yesterday_n_hour_temperature[i]"
   ]
  },
  {
   "cell_type": "code",
   "execution_count": 29,
   "metadata": {},
   "outputs": [],
   "source": [
    "last_second_day_n_hour_temperature = {}\n",
    "for i in range(0,2):\n",
    "    last_second_day_hour_temperature = test_data.iloc[48*12-i:-48*2-i].min_T.reset_index(drop=True)\n",
    "    last_second_day_n_hour_temperature[i] = last_second_day_hour_temperature\n",
    "for i in range(0,2):\n",
    "    df_features['last_second_day_%d_hour_temperature'%i] = last_second_day_n_hour_temperature[i]"
   ]
  },
  {
   "cell_type": "code",
   "execution_count": 30,
   "metadata": {},
   "outputs": [],
   "source": [
    "last_n_hour_dampness = {}\n",
    "for i in range(1,7):\n",
    "    last_hour_dampness = test_data.iloc[48*14-i:-i].D.reset_index(drop=True)\n",
    "    last_n_hour_dampness[i] = last_hour_dampness\n",
    "for i in range(1,7):\n",
    "    df_features['last_%d_hour_dampness'%i] = last_n_hour_dampness[i]"
   ]
  },
  {
   "cell_type": "code",
   "execution_count": 31,
   "metadata": {},
   "outputs": [],
   "source": [
    "yesterday_n_hour_dampness = {}\n",
    "for i in range(0,4):\n",
    "    yesterday_hour_dampness = test_data.iloc[48*13-i:-48*1-i].D.reset_index(drop=True)\n",
    "    yesterday_n_hour_dampness[i] = yesterday_hour_dampness\n",
    "for i in range(0,4):\n",
    "    df_features['yesterday_last_%d_hour_dampness'%i] = yesterday_n_hour_dampness[i]"
   ]
  },
  {
   "cell_type": "code",
   "execution_count": 32,
   "metadata": {},
   "outputs": [],
   "source": [
    "last_second_day_n_hour_dampness = {}\n",
    "for i in range(0,2):\n",
    "    last_second_day_hour_dampness = test_data.iloc[48*12-i:-48*2-i].D.reset_index(drop=True)\n",
    "    last_second_day_n_hour_dampness[i] = last_second_day_hour_dampness\n",
    "for i in range(0,2):\n",
    "    df_features['last_second_day_%d_hour_dampness'%i] = last_second_day_n_hour_dampness[i]"
   ]
  },
  {
   "cell_type": "code",
   "execution_count": 33,
   "metadata": {},
   "outputs": [],
   "source": [
    "last_n_hour_power = {}\n",
    "for i in range(1,49):\n",
    "    last_hour_power = test_data.iloc[48*14-i:-i].Power.reset_index(drop=True)\n",
    "    last_n_hour_power[i] = last_hour_power\n",
    "for i in range(1,49):\n",
    "    df_features['last_%d_hour'%i] = last_n_hour_power[i]"
   ]
  },
  {
   "cell_type": "code",
   "execution_count": 34,
   "metadata": {},
   "outputs": [],
   "source": [
    "df_features['date'] = pd.to_datetime(df_features['date'])"
   ]
  },
  {
   "cell_type": "code",
   "execution_count": 35,
   "metadata": {},
   "outputs": [],
   "source": [
    "df_features['year'] = df_features.date.map(lambda x: x.year)\n",
    "df_features['month'] = df_features.date.map(lambda x: x.month)\n",
    "df_features['day'] = df_features.date.map(lambda x: x.day)\n",
    "df_features['weekday'] = df_features.date.map(lambda x: x.weekday())\n",
    "df_features['holiday'] = df_features.weekday.map(lambda x:1 if (x==6 or x==0) else 0)"
   ]
  },
  {
   "cell_type": "code",
   "execution_count": 36,
   "metadata": {},
   "outputs": [],
   "source": [
    "df_features.to_csv('./raw_data/df_features_test.csv')"
   ]
  },
  {
   "cell_type": "code",
   "execution_count": 37,
   "metadata": {},
   "outputs": [],
   "source": [
    "df_features['last_hours_temperature'] = (df_features['last_1_hour_temperature']+df_features['last_2_hour_temperature']+df_features['last_3_hour_temperature']+df_features['last_4_hour_temperature']+df_features['last_5_hour_temperature']+df_features['last_6_hour_temperature'])/6"
   ]
  },
  {
   "cell_type": "code",
   "execution_count": 38,
   "metadata": {},
   "outputs": [],
   "source": [
    "df_features.drop(columns=['last_1_hour_temperature','last_2_hour_temperature',\n",
    "                          'last_3_hour_temperature','last_4_hour_temperature',\n",
    "                          'last_5_hour_temperature','last_6_hour_temperature'],inplace=True)"
   ]
  },
  {
   "cell_type": "code",
   "execution_count": 39,
   "metadata": {},
   "outputs": [],
   "source": [
    "df_features['yesterday_last_hours_temperature'] = (df_features['yesterday_last_0_hour_temperature']+df_features['yesterday_last_1_hour_temperature']+df_features['yesterday_last_2_hour_temperature']+df_features['yesterday_last_3_hour_temperature'])/4\n",
    "df_features.drop(columns=['yesterday_last_0_hour_temperature','yesterday_last_1_hour_temperature',\n",
    "                          'yesterday_last_2_hour_temperature','yesterday_last_3_hour_temperature'],\n",
    "                 inplace=True)"
   ]
  },
  {
   "cell_type": "code",
   "execution_count": 40,
   "metadata": {},
   "outputs": [],
   "source": [
    "df_features['last_second_day_hours_temperature'] = (df_features['last_second_day_0_hour_temperature']+df_features['last_second_day_1_hour_temperature'])/2\n",
    "df_features.drop(columns=['last_second_day_0_hour_temperature',\n",
    "                          'last_second_day_1_hour_temperature'],\n",
    "        inplace=True)"
   ]
  },
  {
   "cell_type": "code",
   "execution_count": 41,
   "metadata": {},
   "outputs": [],
   "source": [
    "df_features['last_hours_dampness'] = (df_features['last_1_hour_dampness']+df_features['last_2_hour_dampness']+df_features['last_3_hour_dampness']+df_features['last_4_hour_dampness']+df_features['last_5_hour_dampness']+df_features['last_6_hour_dampness'])/6\n",
    "df_features.drop(columns=['last_1_hour_dampness','last_2_hour_dampness',\n",
    "                          'last_3_hour_dampness','last_4_hour_dampness',\n",
    "                          'last_5_hour_dampness','last_6_hour_dampness',],inplace=True)\n",
    "\n",
    "df_features['yesterday_last_hours_dampness'] = (df_features['yesterday_last_0_hour_dampness']+df_features['yesterday_last_1_hour_dampness']+df_features['yesterday_last_2_hour_dampness']+df_features['yesterday_last_3_hour_dampness'])/4\n",
    "df_features.drop(columns=['yesterday_last_0_hour_dampness','yesterday_last_1_hour_dampness',\n",
    "                          'yesterday_last_2_hour_dampness', 'yesterday_last_3_hour_dampness',],\n",
    "       inplace=True)\n",
    "\n",
    "df_features['last_second_day_hours_dampness'] = (df_features['last_second_day_0_hour_dampness']+df_features['last_second_day_1_hour_dampness'])/2\n",
    "df_features.drop(columns=['last_second_day_0_hour_dampness','last_second_day_1_hour_dampness'],inplace=True)"
   ]
  },
  {
   "cell_type": "markdown",
   "metadata": {},
   "source": [
    "如何预测？\n",
    "这里以2010-01-15为例"
   ]
  },
  {
   "cell_type": "code",
   "execution_count": 131,
   "metadata": {},
   "outputs": [],
   "source": [
    "df_features.to_csv('./raw_data/df_features_test_final.csv')"
   ]
  },
  {
   "cell_type": "code",
   "execution_count": 77,
   "metadata": {},
   "outputs": [],
   "source": [
    "test_day = df_features[df_features['date']=='2010-01-15'].copy()"
   ]
  },
  {
   "cell_type": "code",
   "execution_count": 106,
   "metadata": {},
   "outputs": [],
   "source": [
    "y_test = y_test['Power']"
   ]
  },
  {
   "cell_type": "code",
   "execution_count": 80,
   "metadata": {},
   "outputs": [],
   "source": [
    "test_day.reset_index(inplace=True,drop=True)"
   ]
  },
  {
   "cell_type": "code",
   "execution_count": 82,
   "metadata": {},
   "outputs": [
    {
     "data": {
      "text/plain": [
       "1"
      ]
     },
     "execution_count": 82,
     "metadata": {},
     "output_type": "execute_result"
    }
   ],
   "source": [
    "test_day.loc[0,'class']"
   ]
  },
  {
   "cell_type": "markdown",
   "metadata": {},
   "source": [
    "class为1,使用类型1模型"
   ]
  },
  {
   "cell_type": "code",
   "execution_count": 84,
   "metadata": {},
   "outputs": [],
   "source": [
    "test_day.drop(columns=['class'],inplace=True)"
   ]
  },
  {
   "cell_type": "code",
   "execution_count": 85,
   "metadata": {},
   "outputs": [],
   "source": [
    "test_day.drop(columns=['Power'],inplace=True)"
   ]
  },
  {
   "cell_type": "code",
   "execution_count": 86,
   "metadata": {},
   "outputs": [],
   "source": [
    "candidate_features = test_day.columns[8:8+48].to_list()"
   ]
  },
  {
   "cell_type": "markdown",
   "metadata": {},
   "source": [
    "获取模型所需的日候选负荷"
   ]
  },
  {
   "cell_type": "code",
   "execution_count": 90,
   "metadata": {},
   "outputs": [],
   "source": [
    "importance_features = np.load('./raw_data/class_1_features.npy',allow_pickle=True)"
   ]
  },
  {
   "cell_type": "code",
   "execution_count": 92,
   "metadata": {},
   "outputs": [],
   "source": [
    "for i in importance_features:\n",
    "    candidate_features.remove(i)"
   ]
  },
  {
   "cell_type": "code",
   "execution_count": 95,
   "metadata": {},
   "outputs": [],
   "source": [
    "test_day.drop(columns=candidate_features,inplace=True)"
   ]
  },
  {
   "cell_type": "code",
   "execution_count": 113,
   "metadata": {},
   "outputs": [],
   "source": [
    "test_day.drop(columns=['year','date'],inplace=True)"
   ]
  },
  {
   "cell_type": "code",
   "execution_count": 97,
   "metadata": {},
   "outputs": [],
   "source": [
    "model_lgb = joblib.load('./raw_data/model_lgb_1.pkl')"
   ]
  },
  {
   "cell_type": "code",
   "execution_count": 101,
   "metadata": {},
   "outputs": [],
   "source": [
    "last_hours = []\n",
    "for i in importance_features:\n",
    "    num = re.findall('\\d+',i)[0]\n",
    "    last_hours.append(int(num))\n",
    "last_hours.sort()"
   ]
  },
  {
   "cell_type": "code",
   "execution_count": 122,
   "metadata": {},
   "outputs": [],
   "source": [
    "preds = []\n",
    "for i in range(len(test_day)):\n",
    "    pred = model_lgb.predict(test_day[i:i+1])\n",
    "    preds.append(pred.item())\n",
    "    for idx,last_hour in enumerate(last_hours):\n",
    "        if len(preds) >= last_hour:\n",
    "            test_day.iloc[i+1:i+2,7+idx:8+idx] = preds[-last_hour]"
   ]
  },
  {
   "cell_type": "code",
   "execution_count": 125,
   "metadata": {},
   "outputs": [
    {
     "data": {
      "image/png": "[encoded data removed]",
      "text/plain": [
       "<Figure size 864x360 with 1 Axes>"
      ]
     },
     "metadata": {
      "needs_background": "light"
     },
     "output_type": "display_data"
    }
   ],
   "source": [
    "power_data = plt.figure(figsize=(12,5))\n",
    "ax = power_data.add_subplot(111)\n",
    "ax.set(title='power_consumption',ylabel='power',xlabel='Date')\n",
    "plt.plot(y_test,label='true',color='red')\n",
    "plt.plot(preds,label='pred',color='blue')\n",
    "plt.legend(loc='best')\n",
    "plt.show()"
   ]
  },
  {
   "cell_type": "code",
   "execution_count": 126,
   "metadata": {},
   "outputs": [],
   "source": [
    "from sklearn.metrics import mean_squared_error"
   ]
  },
  {
   "cell_type": "code",
   "execution_count": 129,
   "metadata": {
    "scrolled": true
   },
   "outputs": [
    {
     "name": "stdout",
     "output_type": "stream",
     "text": [
      "mape: 2.881895971323368\n",
      "rmse: 307.2847336365698\n"
     ]
    }
   ],
   "source": [
    "mape = (np.abs(y_test - preds)/y_test).mean()*100\n",
    "print('mape:',mape)\n",
    "        \n",
    "rmse = np.sqrt(mean_squared_error(y_test,preds))\n",
    "print('rmse:',rmse)"
   ]
  },
  {
   "cell_type": "markdown",
   "metadata": {},
   "source": [
    "整理为预测函数:"
   ]
  },
  {
   "cell_type": "code",
   "execution_count": 145,
   "metadata": {},
   "outputs": [],
   "source": [
    "def predict_power(df_features,date_time):\n",
    "    test_day = df_features[df_features['date']==date_time].copy()\n",
    "    test_day.reset_index(inplace=True,drop=True)\n",
    "    \n",
    "    class_model = test_day.loc[0,'class']\n",
    "    test_day.drop(columns=['class'],inplace=True)\n",
    "    if class_model==1:\n",
    "        importance_features = np.load('./raw_data/class_1_features.npy',allow_pickle=True)\n",
    "        model_lgb = joblib.load('./raw_data/model_lgb_1.pkl')\n",
    "    elif class_model==0:\n",
    "        importance_features = np.load('./raw_data/class_0_features.npy',allow_pickle=True)\n",
    "        model_lgb = joblib.load('./raw_data/model_lgb_0.pkl')\n",
    "    \n",
    "    y_test = test_day['Power']\n",
    "    test_day.drop(columns=['Power'],inplace=True)\n",
    "    candidate_features = test_day.columns[8:8+48].to_list()\n",
    "    for i in importance_features:\n",
    "        candidate_features.remove(i)\n",
    "        \n",
    "    test_day.drop(columns=candidate_features,inplace=True)\n",
    "    test_day.drop(columns=['year','date'],inplace=True)\n",
    "    \n",
    "    last_hours = []\n",
    "    for i in importance_features:\n",
    "        num = re.findall('\\d+',i)[0]\n",
    "        last_hours.append(int(num))\n",
    "    last_hours.sort()\n",
    "    \n",
    "    preds = []\n",
    "    for i in range(len(test_day)):\n",
    "        pred = model_lgb.predict(test_day[i:i+1])\n",
    "        preds.append(pred.item())\n",
    "        for idx,last_hour in enumerate(last_hours):\n",
    "            if len(preds) >= last_hour:\n",
    "                test_day.iloc[i+1:i+2,7+idx:8+idx] = preds[-last_hour]\n",
    "    \n",
    "    power_data = plt.figure(figsize=(12,5))\n",
    "    ax = power_data.add_subplot(111)\n",
    "    ax.set(title='power_consumption',ylabel='power',xlabel='Date')\n",
    "    plt.plot(y_test,label='true',color='red')\n",
    "    plt.plot(preds,label='pred',color='blue')\n",
    "    plt.legend(loc='best')\n",
    "    plt.show()\n",
    "    \n",
    "    mape = (np.abs(y_test - preds)/y_test).mean()*100\n",
    "    print('mape:',mape)\n",
    "        \n",
    "    rmse = np.sqrt(mean_squared_error(y_test,preds))\n",
    "    print('rmse:',rmse)\n",
    "    \n",
    "    del model_lgb,importance_features"
   ]
  },
  {
   "cell_type": "markdown",
   "metadata": {},
   "source": [
    "若非滚动预测"
   ]
  },
  {
   "cell_type": "code",
   "execution_count": 144,
   "metadata": {},
   "outputs": [],
   "source": [
    "def predict_power_short(df_features,date_time):\n",
    "    test_day = df_features[df_features['date']==date_time].copy()\n",
    "    test_day.reset_index(inplace=True,drop=True)\n",
    "    \n",
    "    class_model = test_day.loc[0,'class']\n",
    "    test_day.drop(columns=['class'],inplace=True)\n",
    "    if class_model==1:\n",
    "        importance_features = np.load('./raw_data/class_1_features.npy',allow_pickle=True)\n",
    "        model_lgb = joblib.load('./raw_data/model_lgb_1.pkl')\n",
    "    elif class_model==0:\n",
    "        importance_features = np.load('./raw_data/class_0_features.npy',allow_pickle=True)\n",
    "        model_lgb = joblib.load('./raw_data/model_lgb_0.pkl')\n",
    "    \n",
    "    y_test = test_day['Power']\n",
    "    test_day.drop(columns=['Power'],inplace=True)\n",
    "    candidate_features = test_day.columns[8:8+48].to_list()\n",
    "    for i in importance_features:\n",
    "        candidate_features.remove(i)\n",
    "        \n",
    "    test_day.drop(columns=candidate_features,inplace=True)\n",
    "    test_day.drop(columns=['year','date'],inplace=True)\n",
    "    \n",
    "    last_hours = []\n",
    "    for i in importance_features:\n",
    "        num = re.findall('\\d+',i)[0]\n",
    "        last_hours.append(int(num))\n",
    "    last_hours.sort()\n",
    "    \n",
    "    preds = []\n",
    "    for i in range(len(test_day)):\n",
    "        pred = model_lgb.predict(test_day[i:i+1])\n",
    "        preds.append(pred.item())\n",
    "    \n",
    "    power_data = plt.figure(figsize=(12,5))\n",
    "    ax = power_data.add_subplot(111)\n",
    "    ax.set(title='power_consumption',ylabel='power',xlabel='Date')\n",
    "    plt.plot(y_test,label='true',color='red')\n",
    "    plt.plot(preds,label='pred',color='blue')\n",
    "    plt.legend(loc='best')\n",
    "    plt.show()\n",
    "    \n",
    "    mape = (np.abs(y_test - preds)/y_test).mean()*100\n",
    "    print('mape:',mape)\n",
    "        \n",
    "    rmse = np.sqrt(mean_squared_error(y_test,preds))\n",
    "    print('rmse:',rmse)\n",
    "    \n",
    "    del model_lgb,importance_features"
   ]
  },
  {
   "cell_type": "markdown",
   "metadata": {},
   "source": [
    "现在就方便多了"
   ]
  },
  {
   "cell_type": "code",
   "execution_count": 148,
   "metadata": {},
   "outputs": [
    {
     "data": {
      "image/png": "[encoded data removed]",
      "text/plain": [
       "<Figure size 864x360 with 1 Axes>"
      ]
     },
     "metadata": {
      "needs_background": "light"
     },
     "output_type": "display_data"
    },
    {
     "name": "stdout",
     "output_type": "stream",
     "text": [
      "mape: 0.5023269992366308\n",
      "rmse: 54.25665372083827\n"
     ]
    }
   ],
   "source": [
    "predict_power_short(df_features,'2010-09-15')"
   ]
  },
  {
   "cell_type": "code",
   "execution_count": 179,
   "metadata": {},
   "outputs": [
    {
     "data": {
      "image/png": "[encoded data removed]",
      "text/plain": [
       "<Figure size 864x360 with 1 Axes>"
      ]
     },
     "metadata": {
      "needs_background": "light"
     },
     "output_type": "display_data"
    },
    {
     "name": "stdout",
     "output_type": "stream",
     "text": [
      "mape: 1.48705993433184\n",
      "rmse: 168.42508204172947\n"
     ]
    }
   ],
   "source": [
    "predict_power(df_features,'2010-09-15')"
   ]
  }
 ],
 "metadata": {
  "kernelspec": {
   "display_name": "Python 3",
   "language": "python",
   "name": "python3"
  },
  "language_info": {
   "codemirror_mode": {
    "name": "ipython",
    "version": 3
   },
   "file_extension": ".py",
   "mimetype": "text/x-python",
   "name": "python",
   "nbconvert_exporter": "python",
   "pygments_lexer": "ipython3",
   "version": "3.7.6"
  }
 },
 "nbformat": 4,
 "nbformat_minor": 4
}
